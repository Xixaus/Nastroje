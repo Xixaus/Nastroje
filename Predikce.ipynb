{
  "nbformat": 4,
  "nbformat_minor": 0,
  "metadata": {
    "colab": {
      "provenance": [],
      "authorship_tag": "ABX9TyPDgNF7q9qzqw1rXOpRvRlI",
      "include_colab_link": true
    },
    "kernelspec": {
      "name": "python3",
      "display_name": "Python 3"
    },
    "language_info": {
      "name": "python"
    }
  },
  "cells": [
    {
      "cell_type": "markdown",
      "metadata": {
        "id": "view-in-github",
        "colab_type": "text"
      },
      "source": [
        "<a href=\"https://colab.research.google.com/github/Xixaus/Nastroje/blob/main/Predikce.ipynb\" target=\"_parent\"><img src=\"https://colab.research.google.com/assets/colab-badge.svg\" alt=\"Open In Colab\"/></a>"
      ]
    },
    {
      "cell_type": "code",
      "execution_count": 8,
      "metadata": {
        "id": "R0GyuU7yw9Kp",
        "cellView": "form",
        "colab": {
          "base_uri": "https://localhost:8080/"
        },
        "outputId": "3adaffc5-b8bf-45ba-c78b-e699ed5c5fea"
      },
      "outputs": [
        {
          "output_type": "stream",
          "name": "stdout",
          "text": [
            "Model: \"Model\"\n",
            "_________________________________________________________________\n",
            " Layer (type)                Output Shape              Param #   \n",
            "=================================================================\n",
            " reshape (Reshape)           (None, 34600, 1)          0         \n",
            "                                                                 \n",
            " gaussian_noise (GaussianNo  (None, 34600, 1)          0         \n",
            " ise)                                                            \n",
            "                                                                 \n",
            " conv1d (Conv1D)             (None, 8650, 14)          924       \n",
            "                                                                 \n",
            " batch_normalization (Batch  (None, 8650, 14)          56        \n",
            " Normalization)                                                  \n",
            "                                                                 \n",
            " max_pooling1d (MaxPooling1  (None, 4325, 14)          0         \n",
            " D)                                                              \n",
            "                                                                 \n",
            " conv1d_1 (Conv1D)           (None, 309, 29)           13427     \n",
            "                                                                 \n",
            " batch_normalization_1 (Bat  (None, 309, 29)           116       \n",
            " chNormalization)                                                \n",
            "                                                                 \n",
            " max_pooling1d_1 (MaxPoolin  (None, 154, 29)           0         \n",
            " g1D)                                                            \n",
            "                                                                 \n",
            " conv1d_2 (Conv1D)           (None, 9, 23)             31372     \n",
            "                                                                 \n",
            " batch_normalization_2 (Bat  (None, 9, 23)             92        \n",
            " chNormalization)                                                \n",
            "                                                                 \n",
            " max_pooling1d_2 (MaxPoolin  (None, 4, 23)             0         \n",
            " g1D)                                                            \n",
            "                                                                 \n",
            " lstm (LSTM)                 (None, 355)               538180    \n",
            "                                                                 \n",
            " dropout (Dropout)           (None, 355)               0         \n",
            "                                                                 \n",
            " dense (Dense)               (None, 5)                 1780      \n",
            "                                                                 \n",
            "=================================================================\n",
            "Total params: 585947 (2.24 MB)\n",
            "Trainable params: 585815 (2.23 MB)\n",
            "Non-trainable params: 132 (528.00 Byte)\n",
            "_________________________________________________________________\n"
          ]
        }
      ],
      "source": [
        "#@title Knihovny a funkce { run: \"auto\", vertical-output: true }\n",
        "\n",
        "!pip install --quiet tensorflow_addons\n",
        "!git clone https://github.com/Xixaus/Nastroje.git\n",
        "!mkdir /content/input_data\n",
        "\n",
        "import pandas as pd\n",
        "import os\n",
        "from IPython.display import clear_output\n",
        "import numpy as np\n",
        "\n",
        "import keras\n",
        "from tensorflow.keras.models import load_model\n",
        "from tensorflow_addons.metrics import F1Score\n",
        "import tensorflow as tf\n",
        "\n",
        "from sklearn.preprocessing import LabelEncoder, MinMaxScaler\n",
        "\n",
        "def GC_extract(data_file):\n",
        "    encoder = LabelEncoder()\n",
        "    encoder.fit(['hruška', 'jablko', 'meruňka', 'třešeň', 'švestka'])\n",
        "    df = pd.DataFrame()\n",
        "\n",
        "    for file in os.listdir(data_file):\n",
        "        data = pd.read_csv(f\"{data_file}/{file}\", names=[file], usecols=[1])\n",
        "        df = pd.concat([df, data], axis=1)\n",
        "\n",
        "    dff = MinMaxScaler().fit_transform(np.log10(df.T.iloc[:,5000:39600]).T).T\n",
        "\n",
        "    prediction = model.predict(dff)\n",
        "\n",
        "    for i in range(len(prediction)):\n",
        "        print(df.columns[i][0:-4])\n",
        "\n",
        "        for category, probability in zip(encoder.classes_, prediction[i]):\n",
        "            print(f'{category}: {probability:.2f} ', end=\"\")\n",
        "\n",
        "        print()\n",
        "\n",
        "F1_score = F1Score(num_classes=5, threshold = 0.5, average='macro')\n",
        "model = load_model(\"/content/Nastroje/model/classification_model.h5\")\n",
        "\n",
        "clear_output()\n",
        "\n",
        "model.summary()"
      ]
    },
    {
      "cell_type": "code",
      "source": [
        "GC_extract(\"/content/input_data\")"
      ],
      "metadata": {
        "colab": {
          "base_uri": "https://localhost:8080/"
        },
        "id": "yaDrY455G7Ry",
        "outputId": "2c301fde-5926-4d6a-ff67-de4c2d34379a"
      },
      "execution_count": 10,
      "outputs": [
        {
          "output_type": "stream",
          "name": "stdout",
          "text": [
            "1/1 [==============================] - 0s 51ms/step\n",
            "MARS4\n",
            "hruška: 0.99 jablko: 0.00 meruňka: 0.00 třešeň: 0.00 švestka: 0.00 \n",
            "MARS3\n",
            "hruška: 0.98 jablko: 0.00 meruňka: 0.00 třešeň: 0.00 švestka: 0.01 \n"
          ]
        }
      ]
    }
  ]
}