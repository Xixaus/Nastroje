{
  "nbformat": 4,
  "nbformat_minor": 0,
  "metadata": {
    "colab": {
      "provenance": [],
      "authorship_tag": "ABX9TyPkawFFSIgFbN0oFYqiu7Ej",
      "include_colab_link": true
    },
    "kernelspec": {
      "name": "python3",
      "display_name": "Python 3"
    },
    "language_info": {
      "name": "python"
    }
  },
  "cells": [
    {
      "cell_type": "markdown",
      "metadata": {
        "id": "view-in-github",
        "colab_type": "text"
      },
      "source": [
        "<a href=\"https://colab.research.google.com/github/Xixaus/Standard_add/blob/main/Predikce.ipynb\" target=\"_parent\"><img src=\"https://colab.research.google.com/assets/colab-badge.svg\" alt=\"Open In Colab\"/></a>"
      ]
    },
    {
      "cell_type": "code",
      "execution_count": null,
      "metadata": {
        "id": "R0GyuU7yw9Kp",
        "cellView": "form"
      },
      "outputs": [],
      "source": [
        "#@title Knihovny a funkce { run: \"auto\", vertical-output: true }\n",
        "\n",
        "!pip install --quiet tensorflow_addons\n",
        "\n",
        "import pandas as pd\n",
        "import os\n",
        "from IPython.display import clear_output\n",
        "import numpy as np\n",
        "import os\n",
        "\n",
        "import keras\n",
        "from tensorflow.keras.models import load_model\n",
        "from tensorflow_addons.metrics import F1Score\n",
        "import tensorflow as tf\n",
        "\n",
        "from sklearn.preprocessing import LabelEncoder, MinMaxScaler\n",
        "\n",
        "from google.colab import drive\n",
        "drive.mount('/content/drive')\n",
        "\n",
        "def GC_extract(data_file):\n",
        "    encoder = LabelEncoder()\n",
        "    encoder.fit(['hruška', 'jablko', 'meruňka', 'třešeň', 'švestka'])\n",
        "    df = pd.DataFrame()\n",
        "\n",
        "    for file in os.listdir(data_file):\n",
        "        data = pd.read_csv(f\"{data_file}/{file}\", names=[file], usecols=[1])\n",
        "        df = pd.concat([df, data], axis=1)\n",
        "\n",
        "    dff = MinMaxScaler().fit_transform(np.log10(df.T.iloc[:,5000:39600]).T).T\n",
        "\n",
        "    prediction = model.predict(dff)\n",
        "\n",
        "    for i in range(len(prediction)):\n",
        "        print(df.columns[i][0:-4])\n",
        "\n",
        "        for category, probability in zip(encoder.classes_, prediction[i]):\n",
        "            print(f'{category}: {probability:.2f} ', end=\"\")\n",
        "\n",
        "        print()\n",
        "\n",
        "F1_score = F1Score(num_classes=5, threshold = 0.5, average='macro')\n",
        "model = load_model(\"/content/drive/MyDrive/Optimalizace/CNN_LSTM_F1_2_multivariate/best_model_CNN_LSTM_F1_2_multivariate_trial_360_F1_0.809_acc_0.833.h5\")\n",
        "\n",
        "clear_output()"
      ]
    },
    {
      "cell_type": "code",
      "source": [
        "model.summary()"
      ],
      "metadata": {
        "colab": {
          "base_uri": "https://localhost:8080/"
        },
        "id": "Qb5H9PMwhRuC",
        "outputId": "758961f4-1d6c-4da6-b1d6-957dde8967f6"
      },
      "execution_count": null,
      "outputs": [
        {
          "output_type": "stream",
          "name": "stdout",
          "text": [
            "Model: \"Model\"\n",
            "_________________________________________________________________\n",
            " Layer (type)                Output Shape              Param #   \n",
            "=================================================================\n",
            " reshape (Reshape)           (None, 34600, 1)          0         \n",
            "                                                                 \n",
            " gaussian_noise (GaussianNo  (None, 34600, 1)          0         \n",
            " ise)                                                            \n",
            "                                                                 \n",
            " conv1d (Conv1D)             (None, 8650, 14)          924       \n",
            "                                                                 \n",
            " batch_normalization (Batch  (None, 8650, 14)          56        \n",
            " Normalization)                                                  \n",
            "                                                                 \n",
            " max_pooling1d (MaxPooling1  (None, 4325, 14)          0         \n",
            " D)                                                              \n",
            "                                                                 \n",
            " conv1d_1 (Conv1D)           (None, 309, 29)           13427     \n",
            "                                                                 \n",
            " batch_normalization_1 (Bat  (None, 309, 29)           116       \n",
            " chNormalization)                                                \n",
            "                                                                 \n",
            " max_pooling1d_1 (MaxPoolin  (None, 154, 29)           0         \n",
            " g1D)                                                            \n",
            "                                                                 \n",
            " conv1d_2 (Conv1D)           (None, 9, 23)             31372     \n",
            "                                                                 \n",
            " batch_normalization_2 (Bat  (None, 9, 23)             92        \n",
            " chNormalization)                                                \n",
            "                                                                 \n",
            " max_pooling1d_2 (MaxPoolin  (None, 4, 23)             0         \n",
            " g1D)                                                            \n",
            "                                                                 \n",
            " lstm (LSTM)                 (None, 355)               538180    \n",
            "                                                                 \n",
            " dropout (Dropout)           (None, 355)               0         \n",
            "                                                                 \n",
            " dense (Dense)               (None, 5)                 1780      \n",
            "                                                                 \n",
            "=================================================================\n",
            "Total params: 585947 (2.24 MB)\n",
            "Trainable params: 585815 (2.23 MB)\n",
            "Non-trainable params: 132 (528.00 Byte)\n",
            "_________________________________________________________________\n"
          ]
        }
      ]
    },
    {
      "cell_type": "code",
      "source": [
        "GC_extract(\"/content/GC\")"
      ],
      "metadata": {
        "colab": {
          "base_uri": "https://localhost:8080/"
        },
        "id": "yaDrY455G7Ry",
        "outputId": "04609ffb-a668-4fe0-9859-cd9ddd1561db"
      },
      "execution_count": null,
      "outputs": [
        {
          "output_type": "stream",
          "name": "stdout",
          "text": [
            "1/1 [==============================] - 1s 829ms/step\n",
            "MARS8\n",
            "hruška: 0.00 jablko: 0.00 meruňka: 0.97 třešeň: 0.01 švestka: 0.01 \n",
            "MARS6\n",
            "hruška: 0.93 jablko: 0.01 meruňka: 0.06 třešeň: 0.00 švestka: 0.00 \n",
            "MARS1\n",
            "hruška: 0.62 jablko: 0.01 meruňka: 0.25 třešeň: 0.03 švestka: 0.09 \n",
            "MARS7\n",
            "hruška: 0.97 jablko: 0.02 meruňka: 0.00 třešeň: 0.00 švestka: 0.01 \n",
            "MARS4\n",
            "hruška: 0.99 jablko: 0.00 meruňka: 0.00 třešeň: 0.00 švestka: 0.00 \n",
            "MARS5\n",
            "hruška: 1.00 jablko: 0.00 meruňka: 0.00 třešeň: 0.00 švestka: 0.00 \n",
            "MARS9\n",
            "hruška: 0.88 jablko: 0.04 meruňka: 0.05 třešeň: 0.02 švestka: 0.01 \n",
            "MARS2\n",
            "hruška: 0.64 jablko: 0.02 meruňka: 0.00 třešeň: 0.34 švestka: 0.00 \n",
            "MARS3\n",
            "hruška: 0.98 jablko: 0.00 meruňka: 0.00 třešeň: 0.00 švestka: 0.01 \n"
          ]
        }
      ]
    }
  ]
}