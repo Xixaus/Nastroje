{
  "nbformat": 4,
  "nbformat_minor": 0,
  "metadata": {
    "colab": {
      "name": "Standardni pridavek.ipynb",
      "provenance": [],
      "collapsed_sections": [],
      "include_colab_link": true
    },
    "kernelspec": {
      "name": "python3",
      "display_name": "Python 3"
    },
    "language_info": {
      "name": "python"
    }
  },
  "cells": [
    {
      "cell_type": "markdown",
      "metadata": {
        "id": "view-in-github",
        "colab_type": "text"
      },
      "source": [
        "<a href=\"https://colab.research.google.com/github/Xixaus/Standard_add/blob/main/Standardni_pridavek.ipynb\" target=\"_parent\"><img src=\"https://colab.research.google.com/assets/colab-badge.svg\" alt=\"Open In Colab\"/></a>"
      ]
    },
    {
      "cell_type": "markdown",
      "source": [
        "# Metoda standardního přídavku\n"
      ],
      "metadata": {
        "id": "lQFLEJmfN0Yd"
      }
    },
    {
      "cell_type": "markdown",
      "source": [
        "- Program slouží k výpočtu koncentrace vzorku pomocí metody standardního přídavku nebo standardního přídavku za konstantního objemu a vytvoření příslušného grafu\n",
        "- Nejdříve se připojte k hostujícímu prostředí v pravé horní části (je nutný se přihlásit ke Google účtu)\n",
        "- Poté zadejte do první buňky hodnoty !podle návodu!, výpočet a graf vygenerujete spuštěním druhé buňky tlačítkem ▶ v levém horním rohu vedle napisu\n",
        "\n",
        "- !!!Všechny objemy zadávejte ve stejných jednotkách, jednotlivá měření stejného roztoku oddělujte pomocí středníku (;), odezvy a objemy jednotlivých standardů pomocí lomítka (/) a jako desetinou značku používejte tečku (.)!!!\n",
        "\n",
        "\n",
        "- V_unit zadejte jednotku objemu, ve které budete zadávat všechny objemy (bez indexů)\n",
        "- R_unit zadejte jednotku měřené veličiny, která bude na y ose v grafu\n",
        "- X_axys_name zvolte v čem chcete mít X osu\n",
        "- V_flask zadejte objem odměrné baňky, v případě zadání 0 bude koncentrace vypočtena metodou přídavku standardu za zvýšení objemu\n",
        "- V_sample zadejte objem odpiptovaného vzorku, ke kterému se přidávají standardy nebo který je opipetovává do odměrné baňky\n",
        "- R_sample zadejte odezvy vzorku (např: 0.200; 0.204; 0.206)\n",
        "- c_standard zadejte koncentraci standardu\n",
        "- c_unit zadejte jednotku koncentrace standardu (bez indexů)\n",
        "- V_standards zadejte objemy přidaných standardů (např: 2.0 / 4.0 / 6.0 / 8.0 / 10.0)\n",
        "- R_standard zadejte odezvy odezvy standardů (např: 0.365; 0.360; 0.375 / 0.514; 0.51; 0.518)\n",
        "- Pomocí volby Save_graph můžete graf uložit ve formátu .pdf, který se nachází ve složce soubory v levé části obrazovky pod ikonou 📁 s názvem graph.pdf. Dvojklikem soubor stáhnete\n",
        "\n",
        "\n"
      ],
      "metadata": {
        "id": "eYGgM9AblEkm"
      }
    },
    {
      "cell_type": "code",
      "source": [
        "#@title Vstupní hodnoty { run: \"auto\", vertical-output: true }\n",
        "V_unit = 'ml' #@param {type:\"string\"}\n",
        "R_unit = \"Odezva\" #@param {type:\"string\"}\n",
        "X_axys_name = \"Zvysena koncentrace\" #@param [\"Zvysena koncentrace\", \"Pridany objem standardu\"]\n",
        "V_flask = 50#@param {type:\"number\"}\n",
        "V_sample =  10#@param {type:\"number\"}\n",
        "R_sample = \"2.90\" #@param {type:\"string\"}\n",
        "c_standard =  150#@param {type:\"number\"}\n",
        "c_unit = '\\u03BCg/ml' #@param {type:\"string\"}\n",
        "V_standards = \"5/10/15/20\"#@param {type:\"string\"}\n",
        "R_standards = \"4.29/6.19/7.40/9.08\"#@param {type:\"string\"}\n",
        "Save_graph = False #@param {type:\"boolean\"}"
      ],
      "metadata": {
        "id": "oXmchQLCehsn",
        "cellView": "form"
      },
      "execution_count": 16,
      "outputs": []
    },
    {
      "cell_type": "code",
      "source": [
        "#@title Graf s výsledkem\n",
        "import numpy as np\n",
        "import math\n",
        "import scipy.stats\n",
        "import matplotlib.pyplot as plt #import knihoven\n",
        "\n",
        "R_st2, V_st2, R_st3, x, X, y = [], [], [], [], [], [] #vytvoření prázdných listů\n",
        "\n",
        "R_st1 = R_standards.split(\"/\")\n",
        "V_st1 = V_standards.split(\"/\")\n",
        "R_sa1 = R_sample.split(\";\") #separace vstupních stringů na seznamy podle dělécího znaménka\n",
        "\n",
        "for i in range(len(R_sa1)): #vložení 0 nulových hodnot podle počtu R_sample do seznamu objemů\n",
        "  V_st2.append(0)\n",
        "\n",
        "for i in range(len(R_st1)): #rozseparování stringů odezev na seznamy\n",
        "  R_st2.append(R_st1[i].split(\";\"))\n",
        "\n",
        "for i in range(len(R_st2)): #znásobení objemů standardů podle počtu odezev a přidání k 0 hodnotám\n",
        "  for ii in range(len(R_st2[i])):\n",
        "    V_st2.append(V_st1[i])\n",
        "\n",
        "for i in range(len(R_st2)): #převedení vnořených seznamů do jednoho seznamu\n",
        "  R_st3 += R_st2[i]\n",
        "\n",
        "X = [float(i) for i in (V_st2)] #převedení objemů na float\n",
        "y = [float(i) for i in (R_sa1 + R_st3)] # spojení odezev vzorku a standardů a převedení na float\n",
        "\n",
        "if V_flask is 0: #Volba konstatního objemu nebo přídavku\n",
        "  graph_name = \"Standardní přídavek\"\n",
        "  if X_axys_name == \"Zvysena koncentrace\": #zjištění volby zobrazení\n",
        "    x = [(X[i]*c_standard)/(V_sample + X[i]) for i in range(len(X))]\n",
        "    x_name = \"Zvýšená koncentrace\" + \" (\" + c_unit + \")\" #vytvoření legendy\n",
        "  else:\n",
        "    x = X\n",
        "    x_name = \"Přidaný objem standardu\" + \" (\" + V_unit + \")\"\n",
        "\n",
        "else:\n",
        "  graph_name = \"Standardní přídavek za konstantního objemu\"\n",
        "  if X_axys_name == \"Zvysena koncentrace\": #zjištění volby zobrazení\n",
        "    x = [X[i]*(c_standard/V_flask) for i in range(len(X))] #přepočtení objemů standardu na koncentraci v odměrné baňce\n",
        "    x_name = \"Zvýšená koncentrace\" + \" (\" + c_unit + \")\" #vytvoření legendy\n",
        "  else:\n",
        "    x = X\n",
        "    x_name = \"Přidaný objem standardu\" + \" (\" + V_unit + \")\"\n",
        "\n",
        "coef = np.polyfit(x,y,1) #lineární regrese\n",
        "poly1d_fn = np.poly1d(coef) #převedení na rovnici regrese\n",
        "R2 = (np.corrcoef(x, y)[0,1])**2 #výpočet korelačního koeficientu\n",
        "\n",
        "if R2 == 1: # v případě dokonalé korelace, zastavení výpočtu odchylky\n",
        "  Sx = 0\n",
        "else:\n",
        "  x_ave = sum(x)/len(x)\n",
        "  y_ave = sum(y)/len(y) #výpočet průměrů\n",
        "\n",
        "  S_rezid = 0\n",
        "  for i in range(len(x)):\n",
        "    S_rezid += (y[i]-coef[0]*x[i]-coef[1])**2 #Součet druhých mocnin reziduí\n",
        "\n",
        "  sx = 0\n",
        "  for i in range(len(x)): \n",
        "    sx += (x[i]-x_ave)**2 #čitatel kovarience xx\n",
        "\n",
        "  Sy = math.sqrt(S_rezid/(len(x)-2)) #Směrodatná odchylka regrese\n",
        "\n",
        "  Sx = (Sy/abs(coef[0]))*math.sqrt((1/len(x))+(y_ave**2/((coef[0]**2)*sx))) #směrodatná odchylka výsledku\n",
        "\n",
        "sample = coef[1]/coef[0] #vypočtení množství standardu/koncentrace vzorku\n",
        "\n",
        "if V_flask is 0: #výpočet koncetrace v případě volby metody standardního přídavku\n",
        "  if X_axys_name == \"Zvysena koncentrace\":\n",
        "    final_sample = sample #výpočet koncentrace vzorku\n",
        "    final_sample_st_dev = Sx\n",
        "    sample_name = \"Zvýšená koncentrace roztoku vzorku\"\n",
        "  else:\n",
        "    final_sample = sample * c_standard / V_sample #přepočtení objemu standardu na koncentraci\n",
        "    final_sample_st_dev = Sx * c_standard / V_sample\n",
        "    sample_name = \"Objem standardu ve vzorku\"\n",
        "\n",
        "else: #výpočet koncetrace v případě volby metody standardního přídavku za konstantního objemu\n",
        "  if X_axys_name == \"Zvysena koncentrace\":\n",
        "    final_sample = sample * V_flask / V_sample #výpočet koncentrace vzorku\n",
        "    final_sample_st_dev = Sx * V_flask / V_sample\n",
        "    sample_name = \"Koncetrace roztoku vzorku\"\n",
        "  else:\n",
        "    final_sample = sample * c_standard / V_sample #přepočtení objemu standardu na koncentraci\n",
        "    final_sample_st_dev = Sx * c_standard / V_sample\n",
        "    sample_name = \"Objem standardu ve vzorku\"\n",
        "\n",
        "if R2 != 1:\n",
        "  final_sample_con_int = final_sample_st_dev * scipy.stats.t.ppf(q=0.95,df=(len(x)-2)) #výpočet intervalu spolehlivosti 0,05\n",
        "\n",
        "x.insert(0, -sample) #přidání koncentrace/objemu standardu ve vzorku\n",
        "y.insert(0, 0) #přidaní nulové hodnoty na začátek seznamu\n",
        "\n",
        "plt.grid() #nastavení parametrů grafu\n",
        "plt.axhline(y=0, color='k')\n",
        "plt.axvline(x=0, color='k')\n",
        "plt.xlabel(x_name)\n",
        "plt.ylabel(R_unit)\n",
        "plt.title(graph_name)\n",
        "\n",
        "plt.plot(x[1:], y[1:],\"yo\", label=\"Naměřené hodnoty\") #vložení a nastavení hodnot v grafu\n",
        "plt.scatter(x[0], y[0], marker=\"o\", label= sample_name)\n",
        "plt.plot(x[1:], poly1d_fn(x[1:]), '--k',label=\"Lineární regrese\")\n",
        "plt.plot(x[:2], poly1d_fn(x[:2]), ls = ':', label=\"Aproximace\")\n",
        "plt.legend(bbox_to_anchor=(1, 1))\n",
        "\n",
        "print (f\"y = {coef[0]:.4f}x + {coef[1]:.4f}\")\n",
        "print (f\"R\\u00B2: {R2:.4f}\")\n",
        "print (f\"Koncentrace vzorku: {final_sample:.3e} {c_unit}\")\n",
        "if R2 != 1: # v případě dokonalé korelace, nevypsání odchylky a intervalu spolehlivosti\n",
        "  print (f\"Směrodatná odchylka: {final_sample_st_dev:.1e} {c_unit}\")\n",
        "  print (f\"Interval spolehlivosti: {final_sample_con_int:.1e} {c_unit}\")\n",
        "\n",
        "if Save_graph is False:\n",
        "  plt.show()\n",
        "else:\n",
        "  plt.savefig(\"graph.pdf\", bbox_inches=\"tight\")"
      ],
      "metadata": {
        "colab": {
          "base_uri": "https://localhost:8080/",
          "height": 383
        },
        "id": "wWyVIj6yZIDE",
        "outputId": "a40ae5fc-c935-47f3-f2a3-76f392d162aa",
        "cellView": "form"
      },
      "execution_count": 17,
      "outputs": [
        {
          "output_type": "stream",
          "name": "stdout",
          "text": [
            "y = 0.1031x + 2.8780\n",
            "R²: 0.9966\n",
            "Koncentrace vzorku: 1.395e+02 μg/ml\n",
            "Směrodatná odchylka: 1.0e+01 μg/ml\n",
            "Interval spolehlivosti: 2.4e+01 μg/ml\n"
          ]
        },
        {
          "output_type": "display_data",
          "data": {
            "text/plain": [
              "<Figure size 432x288 with 1 Axes>"
            ],
            "image/png": "[encoded data removed]"
          },
          "metadata": {
            "needs_background": "light"
          }
        }
      ]
    }
  ]
}